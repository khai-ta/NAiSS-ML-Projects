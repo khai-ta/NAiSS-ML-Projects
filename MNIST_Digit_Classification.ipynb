{
  "nbformat": 4,
  "nbformat_minor": 0,
  "metadata": {
    "colab": {
      "provenance": []
    },
    "kernelspec": {
      "name": "python3",
      "display_name": "Python 3"
    },
    "language_info": {
      "name": "python"
    }
  },
  "cells": [
    {
      "cell_type": "code",
      "execution_count": 13,
      "metadata": {
        "id": "1Pw5AIpt5gFC"
      },
      "outputs": [],
      "source": [
        "from torchvision import datasets\n",
        "from torchvision.transforms import ToTensor"
      ]
    },
    {
      "cell_type": "code",
      "source": [
        "train_data = datasets.MNIST(\n",
        "    root = 'data',\n",
        "    train = True,\n",
        "    transform = ToTensor(),\n",
        "    download = True,\n",
        ")\n",
        "test_data = datasets.MNIST(\n",
        "    root = 'data',\n",
        "    train = False,\n",
        "    transform = ToTensor(),\n",
        "    download = True\n",
        ")"
      ],
      "metadata": {
        "id": "x2DRVmar6USq"
      },
      "execution_count": 12,
      "outputs": []
    },
    {
      "cell_type": "code",
      "source": [
        "train_data"
      ],
      "metadata": {
        "colab": {
          "base_uri": "https://localhost:8080/"
        },
        "id": "BNAlQo-68aE5",
        "outputId": "05054c82-5739-435a-a987-e46fe723ea00"
      },
      "execution_count": 14,
      "outputs": [
        {
          "output_type": "execute_result",
          "data": {
            "text/plain": [
              "Dataset MNIST\n",
              "    Number of datapoints: 60000\n",
              "    Root location: data\n",
              "    Split: Train\n",
              "    StandardTransform\n",
              "Transform: ToTensor()"
            ]
          },
          "metadata": {},
          "execution_count": 14
        }
      ]
    },
    {
      "cell_type": "code",
      "source": [
        "test_data"
      ],
      "metadata": {
        "colab": {
          "base_uri": "https://localhost:8080/"
        },
        "id": "Y8hrpWU08c99",
        "outputId": "d09777ea-061a-4797-ceac-fea8961f46be"
      },
      "execution_count": 5,
      "outputs": [
        {
          "output_type": "execute_result",
          "data": {
            "text/plain": [
              "Dataset MNIST\n",
              "    Number of datapoints: 10000\n",
              "    Root location: data\n",
              "    Split: Test\n",
              "    StandardTransform\n",
              "Transform: ToTensor()"
            ]
          },
          "metadata": {},
          "execution_count": 5
        }
      ]
    },
    {
      "cell_type": "code",
      "source": [
        "train_data.data.shape"
      ],
      "metadata": {
        "colab": {
          "base_uri": "https://localhost:8080/"
        },
        "id": "ZBJGmplh8gN4",
        "outputId": "f88074d2-e40d-48e0-b3e8-c2e08bf9be17"
      },
      "execution_count": 6,
      "outputs": [
        {
          "output_type": "execute_result",
          "data": {
            "text/plain": [
              "torch.Size([60000, 28, 28])"
            ]
          },
          "metadata": {},
          "execution_count": 6
        }
      ]
    },
    {
      "cell_type": "code",
      "source": [
        "test_data.data.shape"
      ],
      "metadata": {
        "colab": {
          "base_uri": "https://localhost:8080/"
        },
        "id": "CG_Ji9lG8ssX",
        "outputId": "9fc71a83-56cf-4b3f-d259-1a0231f46879"
      },
      "execution_count": 7,
      "outputs": [
        {
          "output_type": "execute_result",
          "data": {
            "text/plain": [
              "torch.Size([10000, 28, 28])"
            ]
          },
          "metadata": {},
          "execution_count": 7
        }
      ]
    },
    {
      "cell_type": "code",
      "source": [
        "train_data.targets.size()"
      ],
      "metadata": {
        "colab": {
          "base_uri": "https://localhost:8080/"
        },
        "id": "BV-vjGvO8vyj",
        "outputId": "39be75f4-04a6-44a2-dc89-c5999ef0fb91"
      },
      "execution_count": 8,
      "outputs": [
        {
          "output_type": "execute_result",
          "data": {
            "text/plain": [
              "torch.Size([60000])"
            ]
          },
          "metadata": {},
          "execution_count": 8
        }
      ]
    },
    {
      "cell_type": "code",
      "source": [
        "train_data.targets"
      ],
      "metadata": {
        "colab": {
          "base_uri": "https://localhost:8080/"
        },
        "id": "NzTenB04805i",
        "outputId": "e82b24cb-c928-4dd7-a1c9-6d8134dbffa9"
      },
      "execution_count": 9,
      "outputs": [
        {
          "output_type": "execute_result",
          "data": {
            "text/plain": [
              "tensor([5, 0, 4,  ..., 5, 6, 8])"
            ]
          },
          "metadata": {},
          "execution_count": 9
        }
      ]
    },
    {
      "cell_type": "code",
      "source": [
        "from torch.utils.data import DataLoader\n",
        "loaders = {\n",
        "    'train' : DataLoader(train_data,\n",
        "                        batch_size=100,\n",
        "                        shuffle=True,\n",
        "                        num_workers=1),\n",
        "\n",
        "    'test'  : DataLoader(test_data,\n",
        "                        batch_size=100,\n",
        "                        shuffle=True,\n",
        "                        num_workers=1),\n",
        "}"
      ],
      "metadata": {
        "id": "hmly4-Kl84-X"
      },
      "execution_count": 10,
      "outputs": []
    },
    {
      "cell_type": "code",
      "source": [
        "loaders"
      ],
      "metadata": {
        "colab": {
          "base_uri": "https://localhost:8080/"
        },
        "id": "FJKRPz7g9a5J",
        "outputId": "6bbb824f-29ed-47d8-b08d-4801dab17049"
      },
      "execution_count": 15,
      "outputs": [
        {
          "output_type": "execute_result",
          "data": {
            "text/plain": [
              "{'train': <torch.utils.data.dataloader.DataLoader at 0x7e8e79c7cc40>,\n",
              " 'test': <torch.utils.data.dataloader.DataLoader at 0x7e8e79c7d7b0>}"
            ]
          },
          "metadata": {},
          "execution_count": 15
        }
      ]
    },
    {
      "cell_type": "code",
      "source": [
        "import torch.nn as nn\n",
        "import torch.nn.functional as F\n",
        "import torch.optim as optim\n",
        "\n",
        "class CNN(nn.Module):\n",
        "  def __init__(self):\n",
        "    super(CNN, self).__init__()\n",
        "\n",
        "    self.conv1 = nn.Conv2d(1, 10, kernel_size=5)\n",
        "    self.conv2 = nn.Conv2d(10, 20, kernel_size=5)\n",
        "    self.conv2_drop = nn.Dropout2d()\n",
        "    self.fc1 = nn.Linear(320, 50)\n",
        "    self.fc2 = nn.Linear(50, 10)\n",
        "\n",
        "  def forward(self, x):\n",
        "    x = F.relu(F.max_pool2d(self.conv1(x), 2))\n",
        "    x = F.relu(F.max_pool2d(self.conv2_drop(self.conv2(x)), 2))\n",
        "    x = x.view(-1, 320)\n",
        "    x = F.relu(self.fc1(x))\n",
        "    x = F.dropout(x, training=self.training)\n",
        "    x = self.fc2(x)\n",
        "\n",
        "    return F.softmax(x)"
      ],
      "metadata": {
        "id": "Jz2THQFQ9dr1"
      },
      "execution_count": 31,
      "outputs": []
    },
    {
      "cell_type": "code",
      "source": [
        "import torch\n",
        "\n",
        "device = torch.device(\"cuda\" if torch.cuda.is_available() else \"cpu\")\n",
        "\n",
        "model = CNN().to(device)\n",
        "\n",
        "optimizer = optim.Adam(model.parameters(), lr=0.001)\n",
        "\n",
        "loss_fn = nn.CrossEntropyLoss()\n",
        "\n",
        "def train(epoch):\n",
        "  model.train()\n",
        "  for batch_idx, (data, target) in enumerate(loaders['train']):\n",
        "    data, target = data.to(device), target.to(device)\n",
        "    optimizer.zero_grad\n",
        "    output = model(data)\n",
        "    loss = loss_fn(output, target)\n",
        "    loss.backward()\n",
        "    if batch_idx % 50 == 0:\n",
        "      print(f'Train Epoch: {epoch} [{batch_idx * len(data)}/{len(loaders[\"train\"].dataset)} ({100. * batch_idx / len(loaders[\"train\"]):.0f}%)]\\tLoss: {loss.item():.6f}')\n",
        "\n",
        "def test():\n",
        "  model.eval()\n",
        "\n",
        "  test_loss = 0\n",
        "  correct = 0\n",
        "\n",
        "  with torch.no_grad():\n",
        "    for data, target in loaders['test']:\n",
        "      data, target = data.to(device), target.to(device)\n",
        "      output = model(data)\n",
        "      test_loss += loss_fn(output, target).item()\n",
        "      pred = output.data.max(1, keepdim=True)[1]\n",
        "      correct += pred.eq(target.data.view_as(pred)).sum()\n",
        "\n",
        "  test_loss /= len(loaders['test'].dataset)\n",
        "  print(f'\\nTest set: Average loss: {test_loss:.4f}, Accuracy: {correct}/{len(loaders[\"test\"].dataset)} ({100. * correct / len(loaders[\"test\"].dataset):.0f}%)')"
      ],
      "metadata": {
        "id": "PSYqUWPxcczz"
      },
      "execution_count": 33,
      "outputs": []
    },
    {
      "cell_type": "code",
      "source": [
        "for epoch in range(1, 11):\n",
        "  train(epoch)\n",
        "  test()"
      ],
      "metadata": {
        "colab": {
          "base_uri": "https://localhost:8080/"
        },
        "id": "76Ar_wvag_xv",
        "outputId": "828c23df-cae9-4cb1-adaa-adb489a1831a"
      },
      "execution_count": 34,
      "outputs": [
        {
          "metadata": {
            "tags": null
          },
          "name": "stderr",
          "output_type": "stream",
          "text": [
            "<ipython-input-31-aa376e6c1fe2>:23: UserWarning: Implicit dimension choice for softmax has been deprecated. Change the call to include dim=X as an argument.\n",
            "  return F.softmax(x)\n"
          ]
        },
        {
          "output_type": "stream",
          "name": "stdout",
          "text": [
            "Train Epoch: 1 [0/60000 (0%)]\tLoss: 2.303901\n",
            "Train Epoch: 1 [5000/60000 (8%)]\tLoss: 2.301859\n",
            "Train Epoch: 1 [10000/60000 (17%)]\tLoss: 2.302455\n",
            "Train Epoch: 1 [15000/60000 (25%)]\tLoss: 2.302359\n",
            "Train Epoch: 1 [20000/60000 (33%)]\tLoss: 2.301539\n",
            "Train Epoch: 1 [25000/60000 (42%)]\tLoss: 2.301733\n",
            "Train Epoch: 1 [30000/60000 (50%)]\tLoss: 2.300736\n",
            "Train Epoch: 1 [35000/60000 (58%)]\tLoss: 2.301877\n",
            "Train Epoch: 1 [40000/60000 (67%)]\tLoss: 2.301849\n",
            "Train Epoch: 1 [45000/60000 (75%)]\tLoss: 2.302227\n",
            "Train Epoch: 1 [50000/60000 (83%)]\tLoss: 2.301837\n",
            "Train Epoch: 1 [55000/60000 (92%)]\tLoss: 2.301815\n",
            "\n",
            "Test set: Average loss: 0.0230, Accuracy: 1060/10000 (11%)\n",
            "Train Epoch: 2 [0/60000 (0%)]\tLoss: 2.302300\n",
            "Train Epoch: 2 [5000/60000 (8%)]\tLoss: 2.301570\n",
            "Train Epoch: 2 [10000/60000 (17%)]\tLoss: 2.303454\n",
            "Train Epoch: 2 [15000/60000 (25%)]\tLoss: 2.302107\n",
            "Train Epoch: 2 [20000/60000 (33%)]\tLoss: 2.302207\n",
            "Train Epoch: 2 [25000/60000 (42%)]\tLoss: 2.301510\n",
            "Train Epoch: 2 [30000/60000 (50%)]\tLoss: 2.302689\n",
            "Train Epoch: 2 [35000/60000 (58%)]\tLoss: 2.301406\n",
            "Train Epoch: 2 [40000/60000 (67%)]\tLoss: 2.302441\n",
            "Train Epoch: 2 [45000/60000 (75%)]\tLoss: 2.303288\n",
            "Train Epoch: 2 [50000/60000 (83%)]\tLoss: 2.303210\n",
            "Train Epoch: 2 [55000/60000 (92%)]\tLoss: 2.303640\n",
            "\n",
            "Test set: Average loss: 0.0230, Accuracy: 1060/10000 (11%)\n",
            "Train Epoch: 3 [0/60000 (0%)]\tLoss: 2.302777\n",
            "Train Epoch: 3 [5000/60000 (8%)]\tLoss: 2.302019\n",
            "Train Epoch: 3 [10000/60000 (17%)]\tLoss: 2.302519\n",
            "Train Epoch: 3 [15000/60000 (25%)]\tLoss: 2.302323\n",
            "Train Epoch: 3 [20000/60000 (33%)]\tLoss: 2.302191\n",
            "Train Epoch: 3 [25000/60000 (42%)]\tLoss: 2.303010\n",
            "Train Epoch: 3 [30000/60000 (50%)]\tLoss: 2.302434\n",
            "Train Epoch: 3 [35000/60000 (58%)]\tLoss: 2.303143\n",
            "Train Epoch: 3 [40000/60000 (67%)]\tLoss: 2.301677\n",
            "Train Epoch: 3 [45000/60000 (75%)]\tLoss: 2.301048\n",
            "Train Epoch: 3 [50000/60000 (83%)]\tLoss: 2.302890\n",
            "Train Epoch: 3 [55000/60000 (92%)]\tLoss: 2.302938\n",
            "\n",
            "Test set: Average loss: 0.0230, Accuracy: 1060/10000 (11%)\n",
            "Train Epoch: 4 [0/60000 (0%)]\tLoss: 2.302806\n",
            "Train Epoch: 4 [5000/60000 (8%)]\tLoss: 2.302850\n",
            "Train Epoch: 4 [10000/60000 (17%)]\tLoss: 2.302140\n",
            "Train Epoch: 4 [15000/60000 (25%)]\tLoss: 2.303345\n",
            "Train Epoch: 4 [20000/60000 (33%)]\tLoss: 2.302628\n",
            "Train Epoch: 4 [25000/60000 (42%)]\tLoss: 2.300553\n",
            "Train Epoch: 4 [30000/60000 (50%)]\tLoss: 2.301408\n",
            "Train Epoch: 4 [35000/60000 (58%)]\tLoss: 2.301813\n",
            "Train Epoch: 4 [40000/60000 (67%)]\tLoss: 2.302216\n",
            "Train Epoch: 4 [45000/60000 (75%)]\tLoss: 2.302485\n",
            "Train Epoch: 4 [50000/60000 (83%)]\tLoss: 2.302786\n",
            "Train Epoch: 4 [55000/60000 (92%)]\tLoss: 2.302567\n",
            "\n",
            "Test set: Average loss: 0.0230, Accuracy: 1060/10000 (11%)\n",
            "Train Epoch: 5 [0/60000 (0%)]\tLoss: 2.303252\n",
            "Train Epoch: 5 [5000/60000 (8%)]\tLoss: 2.302536\n",
            "Train Epoch: 5 [10000/60000 (17%)]\tLoss: 2.303000\n",
            "Train Epoch: 5 [15000/60000 (25%)]\tLoss: 2.301885\n",
            "Train Epoch: 5 [20000/60000 (33%)]\tLoss: 2.303771\n",
            "Train Epoch: 5 [25000/60000 (42%)]\tLoss: 2.302665\n",
            "Train Epoch: 5 [30000/60000 (50%)]\tLoss: 2.302422\n",
            "Train Epoch: 5 [35000/60000 (58%)]\tLoss: 2.302118\n",
            "Train Epoch: 5 [40000/60000 (67%)]\tLoss: 2.303314\n",
            "Train Epoch: 5 [45000/60000 (75%)]\tLoss: 2.302734\n",
            "Train Epoch: 5 [50000/60000 (83%)]\tLoss: 2.303083\n",
            "Train Epoch: 5 [55000/60000 (92%)]\tLoss: 2.302202\n",
            "\n",
            "Test set: Average loss: 0.0230, Accuracy: 1060/10000 (11%)\n",
            "Train Epoch: 6 [0/60000 (0%)]\tLoss: 2.302604\n",
            "Train Epoch: 6 [5000/60000 (8%)]\tLoss: 2.301899\n",
            "Train Epoch: 6 [10000/60000 (17%)]\tLoss: 2.302699\n",
            "Train Epoch: 6 [15000/60000 (25%)]\tLoss: 2.301152\n",
            "Train Epoch: 6 [20000/60000 (33%)]\tLoss: 2.301982\n",
            "Train Epoch: 6 [25000/60000 (42%)]\tLoss: 2.302253\n",
            "Train Epoch: 6 [30000/60000 (50%)]\tLoss: 2.301126\n",
            "Train Epoch: 6 [35000/60000 (58%)]\tLoss: 2.301893\n",
            "Train Epoch: 6 [40000/60000 (67%)]\tLoss: 2.302398\n",
            "Train Epoch: 6 [45000/60000 (75%)]\tLoss: 2.303139\n",
            "Train Epoch: 6 [50000/60000 (83%)]\tLoss: 2.300933\n",
            "Train Epoch: 6 [55000/60000 (92%)]\tLoss: 2.301955\n",
            "\n",
            "Test set: Average loss: 0.0230, Accuracy: 1060/10000 (11%)\n",
            "Train Epoch: 7 [0/60000 (0%)]\tLoss: 2.301862\n",
            "Train Epoch: 7 [5000/60000 (8%)]\tLoss: 2.301920\n",
            "Train Epoch: 7 [10000/60000 (17%)]\tLoss: 2.301452\n",
            "Train Epoch: 7 [15000/60000 (25%)]\tLoss: 2.301264\n",
            "Train Epoch: 7 [20000/60000 (33%)]\tLoss: 2.303313\n",
            "Train Epoch: 7 [25000/60000 (42%)]\tLoss: 2.302314\n",
            "Train Epoch: 7 [30000/60000 (50%)]\tLoss: 2.301875\n",
            "Train Epoch: 7 [35000/60000 (58%)]\tLoss: 2.302395\n",
            "Train Epoch: 7 [40000/60000 (67%)]\tLoss: 2.301515\n",
            "Train Epoch: 7 [45000/60000 (75%)]\tLoss: 2.302140\n",
            "Train Epoch: 7 [50000/60000 (83%)]\tLoss: 2.301521\n",
            "Train Epoch: 7 [55000/60000 (92%)]\tLoss: 2.302469\n",
            "\n",
            "Test set: Average loss: 0.0230, Accuracy: 1060/10000 (11%)\n",
            "Train Epoch: 8 [0/60000 (0%)]\tLoss: 2.301858\n",
            "Train Epoch: 8 [5000/60000 (8%)]\tLoss: 2.302112\n",
            "Train Epoch: 8 [10000/60000 (17%)]\tLoss: 2.303017\n",
            "Train Epoch: 8 [15000/60000 (25%)]\tLoss: 2.301934\n",
            "Train Epoch: 8 [20000/60000 (33%)]\tLoss: 2.302051\n",
            "Train Epoch: 8 [25000/60000 (42%)]\tLoss: 2.302327\n",
            "Train Epoch: 8 [30000/60000 (50%)]\tLoss: 2.302428\n",
            "Train Epoch: 8 [35000/60000 (58%)]\tLoss: 2.302578\n",
            "Train Epoch: 8 [40000/60000 (67%)]\tLoss: 2.303401\n",
            "Train Epoch: 8 [45000/60000 (75%)]\tLoss: 2.301997\n",
            "Train Epoch: 8 [50000/60000 (83%)]\tLoss: 2.301782\n",
            "Train Epoch: 8 [55000/60000 (92%)]\tLoss: 2.301925\n",
            "\n",
            "Test set: Average loss: 0.0230, Accuracy: 1060/10000 (11%)\n",
            "Train Epoch: 9 [0/60000 (0%)]\tLoss: 2.303158\n",
            "Train Epoch: 9 [5000/60000 (8%)]\tLoss: 2.301319\n",
            "Train Epoch: 9 [10000/60000 (17%)]\tLoss: 2.303365\n",
            "Train Epoch: 9 [15000/60000 (25%)]\tLoss: 2.303394\n",
            "Train Epoch: 9 [20000/60000 (33%)]\tLoss: 2.302284\n",
            "Train Epoch: 9 [25000/60000 (42%)]\tLoss: 2.302438\n",
            "Train Epoch: 9 [30000/60000 (50%)]\tLoss: 2.302256\n",
            "Train Epoch: 9 [35000/60000 (58%)]\tLoss: 2.301870\n",
            "Train Epoch: 9 [40000/60000 (67%)]\tLoss: 2.303300\n",
            "Train Epoch: 9 [45000/60000 (75%)]\tLoss: 2.302064\n",
            "Train Epoch: 9 [50000/60000 (83%)]\tLoss: 2.301252\n",
            "Train Epoch: 9 [55000/60000 (92%)]\tLoss: 2.303530\n",
            "\n",
            "Test set: Average loss: 0.0230, Accuracy: 1060/10000 (11%)\n",
            "Train Epoch: 10 [0/60000 (0%)]\tLoss: 2.302993\n",
            "Train Epoch: 10 [5000/60000 (8%)]\tLoss: 2.301656\n",
            "Train Epoch: 10 [10000/60000 (17%)]\tLoss: 2.301480\n",
            "Train Epoch: 10 [15000/60000 (25%)]\tLoss: 2.302331\n",
            "Train Epoch: 10 [20000/60000 (33%)]\tLoss: 2.301670\n",
            "Train Epoch: 10 [25000/60000 (42%)]\tLoss: 2.300914\n",
            "Train Epoch: 10 [30000/60000 (50%)]\tLoss: 2.303035\n",
            "Train Epoch: 10 [35000/60000 (58%)]\tLoss: 2.302396\n",
            "Train Epoch: 10 [40000/60000 (67%)]\tLoss: 2.302444\n",
            "Train Epoch: 10 [45000/60000 (75%)]\tLoss: 2.302104\n",
            "Train Epoch: 10 [50000/60000 (83%)]\tLoss: 2.303844\n",
            "Train Epoch: 10 [55000/60000 (92%)]\tLoss: 2.302212\n",
            "\n",
            "Test set: Average loss: 0.0230, Accuracy: 1060/10000 (11%)\n"
          ]
        }
      ]
    },
    {
      "cell_type": "code",
      "source": [
        "import matplotlib.pyplot as plt\n",
        "\n",
        "model.eval()\n",
        "\n",
        "data, target = test_data[3]\n",
        "\n",
        "data = data.unsqueeze(0).to(device)\n",
        "\n",
        "output = model(data)\n",
        "\n",
        "prediction = output.argmax(dim=1, keepdim=True).item()\n",
        "\n",
        "print(f'Prediction: {prediction}')\n",
        "\n",
        "image = data.squeeze(0).squeeze(0).cpu().numpy()\n",
        "\n",
        "plt.imshow(image, cmap='gray')\n",
        "plt.show()"
      ],
      "metadata": {
        "colab": {
          "base_uri": "https://localhost:8080/",
          "height": 502
        },
        "id": "Ni0VqRBuipbE",
        "outputId": "86b90260-c833-478b-add2-77d46f2f3969"
      },
      "execution_count": 51,
      "outputs": [
        {
          "output_type": "stream",
          "name": "stderr",
          "text": [
            "<ipython-input-31-aa376e6c1fe2>:23: UserWarning: Implicit dimension choice for softmax has been deprecated. Change the call to include dim=X as an argument.\n",
            "  return F.softmax(x)\n"
          ]
        },
        {
          "output_type": "stream",
          "name": "stdout",
          "text": [
            "Prediction: 0\n"
          ]
        },
        {
          "output_type": "display_data",
          "data": {
            "text/plain": [
              "<Figure size 640x480 with 1 Axes>"
            ],
            "image/png": "[encoded data removed]"
          },
          "metadata": {}
        }
      ]
    }
  ]
}